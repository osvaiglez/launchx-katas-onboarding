{
 "cells": [
  {
   "cell_type": "markdown",
   "metadata": {},
   "source": [
    "Ejercicio - Escribir declaraciones if, else y elif"
   ]
  },
  {
   "cell_type": "code",
   "execution_count": 53,
   "metadata": {},
   "outputs": [
    {
     "name": "stdout",
     "output_type": "stream",
     "text": [
      "ADVERTENCIA: Asteoride detectado a altas velocidades\n"
     ]
    }
   ],
   "source": [
    "velocidad = 49\n",
    "if velocidad > 25:\n",
    "    print('ADVERTENCIA: Asteoride detectado a altas velocidades')\n",
    "else:\n",
    "    print('Disfrute su día, ciudadano promedio')"
   ]
  },
  {
   "cell_type": "markdown",
   "metadata": {},
   "source": [
    "Ejercicio: Uso de operadores and y or\n"
   ]
  },
  {
   "cell_type": "code",
   "execution_count": 54,
   "metadata": {},
   "outputs": [
    {
     "name": "stdout",
     "output_type": "stream",
     "text": [
      "Disfrute su día, ciudadano promedio\n"
     ]
    }
   ],
   "source": [
    "asteroide = 19\n",
    "if asteroide >= 20:\n",
    "    print('Estrella fugaz detectada. Mira el cielo!')\n",
    "else:\n",
    "    print('Disfrute su día, ciudadano promedio')"
   ]
  },
  {
   "cell_type": "code",
   "execution_count": 55,
   "metadata": {},
   "outputs": [
    {
     "name": "stdout",
     "output_type": "stream",
     "text": [
      "Disfrute su día, ciudadano promedio\n"
     ]
    }
   ],
   "source": [
    "size = 1\n",
    "speed = 1\n",
    "\n",
    "if speed > 25 and size > 25:\n",
    "    print('ADVERTENCIA: Un asteroide extremadamente peligroso se dirige a la Tierra!')\n",
    "elif speed > 25:\n",
    "    print('ADVERTENCIA: Asteoride detectado a altas velocidades!')\n",
    "elif size > 25 and size < 1000:\n",
    "    print('ADVERTENCIA: Asteroide de proporciones muy grandes detectado!')\n",
    "elif speed >= 20:\n",
    "    print('Estrella fugaz detectada. Mira el cielo!')\n",
    "else:\n",
    "    print('Disfrute su día, ciudadano promedio')\n"
   ]
  }
 ],
 "metadata": {
  "interpreter": {
   "hash": "ca7e80ad7a88f5e166ba563458f31ecb639e2ffd3b4c3a1edf2fc6a8baa4e1f6"
  },
  "kernelspec": {
   "display_name": "Python 3.9.7 ('base')",
   "language": "python",
   "name": "python3"
  },
  "language_info": {
   "codemirror_mode": {
    "name": "ipython",
    "version": 3
   },
   "file_extension": ".py",
   "mimetype": "text/x-python",
   "name": "python",
   "nbconvert_exporter": "python",
   "pygments_lexer": "ipython3",
   "version": "3.9.7"
  },
  "orig_nbformat": 4
 },
 "nbformat": 4,
 "nbformat_minor": 2
}
