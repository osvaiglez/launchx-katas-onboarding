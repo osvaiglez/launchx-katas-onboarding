{
 "cells": [
  {
   "cell_type": "markdown",
   "metadata": {},
   "source": [
    "Ejercicio 1: Transformar Cadenas"
   ]
  },
  {
   "cell_type": "code",
   "execution_count": 46,
   "metadata": {},
   "outputs": [
    {
     "name": "stdout",
     "output_type": "stream",
     "text": [
      " \n",
      "On average, the Moon moves 4cm away from the Earth every year\n",
      " \n",
      "The highest daylight temperature of the Moon is 127° Celsius\n"
     ]
    }
   ],
   "source": [
    "#Muestra de Texto\n",
    "text = \"\"\"Interesting facts about the Moon. The Moon is Earth's only satellite. There are several interesting facts about the Moon and how it affects life here on Earth. \n",
    "On average, the Moon moves 4cm away from the Earth every year. This yearly drift is not significant enough to cause immediate effects on Earth. \n",
    "The highest daylight temperature of the Moon is 127 C.\"\"\"\n",
    " \n",
    "palabras_clave  = [\"distance\", \"temperature\", \"average\"]\n",
    " \n",
    "facts = text.split('.')\n",
    "\n",
    "#Ciclo para imprimir palabras clave\n",
    "for oracion in facts:\n",
    "    for clave in palabras_clave:\n",
    "        if clave in oracion:\n",
    "            print(oracion.replace(' C', '° Celsius'))\n",
    "            break\n",
    "\n",
    "\n"
   ]
  },
  {
   "cell_type": "markdown",
   "metadata": {},
   "source": [
    "Ejercicio 2: Formateando Cadenas"
   ]
  },
  {
   "cell_type": "code",
   "execution_count": 47,
   "metadata": {},
   "outputs": [
    {
     "name": "stdout",
     "output_type": "stream",
     "text": [
      "\n",
      "Datos de Gravedad sobre: Ganímedes\n",
      "-------------------------------------------\n",
      "Nombre del planeta: Marte \n",
      "Gravedad en Ganímedes: 1.4300000000000002 m/s^2\n",
      "\n"
     ]
    }
   ],
   "source": [
    "#Variables 1\n",
    "name = \"Moon\"\n",
    "gravity = 0.00162 #En km\n",
    "planet = \"Earth\"\n",
    "\n",
    "#Variables 2\n",
    "nombre = 'Ganímedes'\n",
    "gravedad  = 0.00143 #En km\n",
    "planeta = 'Marte '\n",
    "\n",
    "\n",
    "\n",
    "#Titulo\n",
    "title = f'datos de gravedad sobre {nombre}'\n",
    "\n",
    "#Hechos\n",
    "facts = f\"\"\"{'-'*20}\n",
    "Nombre del Planeta: {planeta}\n",
    "Gravedad en {nombre}: {gravedad * 1000} m/s^2\n",
    "\"\"\"\n",
    "\n",
    "#Solución original al último problema del ejercicio 2\n",
    "#gravedadf = gravedad * 1000\n",
    "\n",
    "#Plantilla V2\n",
    "plantillav2 = \"\"\"\n",
    "Datos de Gravedad sobre: {nombre}\n",
    "-------------------------------------------\n",
    "Nombre del planeta: {planeta}\n",
    "Gravedad en {nombre}: {gravedad} m/s^2\n",
    "\"\"\"\n",
    "\n",
    "#Solución original al último problema del ejercicio 2\n",
    "#print(plantillav2.format(nombre=nombre, planeta=planeta, gravedad=gravedadf))\n",
    "\n",
    "print(plantillav2.format(nombre=nombre, planeta=planeta, gravedad=gravedad*1000))\n",
    "\n"
   ]
  }
 ],
 "metadata": {
  "interpreter": {
   "hash": "4b1ea5d9f01c188e6eeb9ccb0bd2ec31f47f96d4f8a3cb72f5bd2be753e910ed"
  },
  "kernelspec": {
   "display_name": "Python 3.10.2 64-bit",
   "language": "python",
   "name": "python3"
  },
  "language_info": {
   "codemirror_mode": {
    "name": "ipython",
    "version": 3
   },
   "file_extension": ".py",
   "mimetype": "text/x-python",
   "name": "python",
   "nbconvert_exporter": "python",
   "pygments_lexer": "ipython3",
   "version": "3.10.2"
  },
  "orig_nbformat": 4
 },
 "nbformat": 4,
 "nbformat_minor": 2
}
