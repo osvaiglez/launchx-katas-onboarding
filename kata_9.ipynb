{
 "cells": [
  {
   "cell_type": "markdown",
   "metadata": {},
   "source": [
    "Ejercicio 1: Uso de funciones en Python\n"
   ]
  },
  {
   "cell_type": "code",
   "execution_count": 27,
   "metadata": {},
   "outputs": [
    {
     "data": {
      "text/plain": [
       "'Total: 33.333333333333336'"
      ]
     },
     "execution_count": 27,
     "metadata": {},
     "output_type": "execute_result"
    }
   ],
   "source": [
    "def reporte(tanque1, tanque2, tanque3):\n",
    "    return f\"\"\"Total: {promedio([tanque1, tanque2, tanque3])}\"\"\"\n",
    "\n",
    "\n",
    "def promedio(values):\n",
    "    total = sum(values)\n",
    "    cantidad = len(values)\n",
    "    return total / cantidad\n",
    "\n",
    "reporte(60, 20, 20)\n"
   ]
  },
  {
   "cell_type": "markdown",
   "metadata": {},
   "source": [
    "Ejercicio 2: Trabajo con argumentos de palabra clave"
   ]
  },
  {
   "cell_type": "code",
   "execution_count": 28,
   "metadata": {},
   "outputs": [
    {
     "name": "stdout",
     "output_type": "stream",
     "text": [
      "\n",
      "    Mision a Marte\n",
      "    Total travel time: 74 minutos\n",
      "    Total fuel left: 500000\n",
      "    tanque main = 300000 galones restantes\n",
      "tanque external = 200000 galones restantes\n",
      "\n"
     ]
    }
   ],
   "source": [
    "def reporte(destino, *minutos, **reserva_combustible):\n",
    "    reporte_mision = f\"\"\"\n",
    "    Mision a {destino}\n",
    "    Total travel time: {sum(minutos)} minutos\n",
    "    Total fuel left: {sum(reserva_combustible.values())}\n",
    "    \"\"\"\n",
    "    for tanque, galones in reserva_combustible.items():\n",
    "        reporte_mision += f\"tanque {tanque} = {galones} galones restantes\\n\"\n",
    "    return reporte_mision\n",
    "\n",
    "print(reporte(\"Marte\", 8, 11, 55, main=300000, external=200000))"
   ]
  }
 ],
 "metadata": {
  "interpreter": {
   "hash": "4b1ea5d9f01c188e6eeb9ccb0bd2ec31f47f96d4f8a3cb72f5bd2be753e910ed"
  },
  "kernelspec": {
   "display_name": "Python 3.10.2 64-bit",
   "language": "python",
   "name": "python3"
  },
  "language_info": {
   "codemirror_mode": {
    "name": "ipython",
    "version": 3
   },
   "file_extension": ".py",
   "mimetype": "text/x-python",
   "name": "python",
   "nbconvert_exporter": "python",
   "pygments_lexer": "ipython3",
   "version": "3.10.2"
  },
  "orig_nbformat": 4
 },
 "nbformat": 4,
 "nbformat_minor": 2
}
