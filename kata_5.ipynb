{
 "cells": [
  {
   "cell_type": "markdown",
   "metadata": {},
   "source": [
    "Ejercicio 1 - Utilizar operadores aritméticos"
   ]
  },
  {
   "cell_type": "code",
   "execution_count": 18,
   "metadata": {},
   "outputs": [
    {
     "name": "stdout",
     "output_type": "stream",
     "text": [
      "Distancia entre planetas en kilometros:  628949330\n",
      "Distancia entre planetas en millas:  390577533.93\n"
     ]
    }
   ],
   "source": [
    "tierra = 149597870\n",
    "jupiter = 778547200\n",
    "\n",
    "print(\"Distancia entre planetas en kilometros: \", jupiter - tierra)\n",
    "print(\"Distancia entre planetas en millas: \", (jupiter - tierra) * .621)"
   ]
  },
  {
   "cell_type": "markdown",
   "metadata": {},
   "source": [
    "Ejercicio 2: Convierte cadenas en números y usa valores absolutos"
   ]
  },
  {
   "cell_type": "code",
   "execution_count": 19,
   "metadata": {},
   "outputs": [
    {
     "name": "stdout",
     "output_type": "stream",
     "text": [
      "Distancia entre planetas en kilometros:  50300000\n",
      "Distancia entre planetas en millas:  31236300.0\n"
     ]
    }
   ],
   "source": [
    "planeta1 = int(input(\"Introduza la distancia  del primer planeta: \"))\n",
    "planeta2 = int(input(\"Introduza la distancia  del segundo planeta: \"))\n",
    "\n",
    "distancia = planeta1 - planeta2\n",
    "\n",
    "print(\"Distancia entre planetas en kilometros: \", abs(distancia))\n",
    "print(\"Distancia entre planetas en millas: \", abs(distancia * .621))\n"
   ]
  }
 ],
 "metadata": {
  "interpreter": {
   "hash": "4b1ea5d9f01c188e6eeb9ccb0bd2ec31f47f96d4f8a3cb72f5bd2be753e910ed"
  },
  "kernelspec": {
   "display_name": "Python 3.10.2 64-bit",
   "language": "python",
   "name": "python3"
  },
  "language_info": {
   "codemirror_mode": {
    "name": "ipython",
    "version": 3
   },
   "file_extension": ".py",
   "mimetype": "text/x-python",
   "name": "python",
   "nbconvert_exporter": "python",
   "pygments_lexer": "ipython3",
   "version": "3.10.2"
  },
  "orig_nbformat": 4
 },
 "nbformat": 4,
 "nbformat_minor": 2
}
