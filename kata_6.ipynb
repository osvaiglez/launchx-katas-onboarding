{
 "cells": [
  {
   "cell_type": "markdown",
   "metadata": {},
   "source": [
    "Ejercicio 1: Crear y usar listas de Python"
   ]
  },
  {
   "cell_type": "code",
   "execution_count": 3,
   "metadata": {},
   "outputs": [
    {
     "name": "stdout",
     "output_type": "stream",
     "text": [
      "Hay 9 planetas en el Sistema Solar.\n"
     ]
    }
   ],
   "source": [
    "planets = ['Mercury', 'Venus', 'Earth', 'Mars', 'Jupiter', 'Saturn', 'Uranus', 'Neptune', 'Pluto']\n",
    "number_of_planets = len(planets)\n",
    "\n",
    "print(\"Hay\", number_of_planets, \"planetas en el Sistema Solar.\")\n"
   ]
  },
  {
   "cell_type": "markdown",
   "metadata": {},
   "source": [
    "Ejercicio 2: Trabajando con datos de una lista\n"
   ]
  },
  {
   "cell_type": "code",
   "execution_count": 4,
   "metadata": {},
   "outputs": [
    {
     "name": "stdout",
     "output_type": "stream",
     "text": [
      "Los planetas que son más cercanos al Sol que Saturn son:\n",
      "['Mercury', 'Venus', 'Earth', 'Mars', 'Jupiter']\n",
      "Y los más alejados del Sol que Saturn son:\n",
      "['Uranus', 'Neptune']\n"
     ]
    }
   ],
   "source": [
    "# Lista de planetas\n",
    "planets = ['Mercury', 'Venus', 'Earth', 'Mars', 'Jupiter', 'Saturn', 'Uranus', 'Neptune']\n",
    "\n",
    "index = input(\"Introduzca el nombre de un planeta (Inicia con una letra mayúscula): \")\n",
    "index_usuario = planets.index(index)\n",
    "\n",
    "print(\"Los planetas que son más cercanos al Sol que \" + index, \"son:\")\n",
    "print(planets[0:index_usuario])\n",
    "\n",
    "print(\"Y los más alejados del Sol que \" + index, \"son:\")\n",
    "print(planets[index_usuario + 1:])"
   ]
  }
 ],
 "metadata": {
  "interpreter": {
   "hash": "4b1ea5d9f01c188e6eeb9ccb0bd2ec31f47f96d4f8a3cb72f5bd2be753e910ed"
  },
  "kernelspec": {
   "display_name": "Python 3.10.2 64-bit",
   "language": "python",
   "name": "python3"
  },
  "language_info": {
   "codemirror_mode": {
    "name": "ipython",
    "version": 3
   },
   "file_extension": ".py",
   "mimetype": "text/x-python",
   "name": "python",
   "nbconvert_exporter": "python",
   "pygments_lexer": "ipython3",
   "version": "3.10.2"
  },
  "orig_nbformat": 4
 },
 "nbformat": 4,
 "nbformat_minor": 2
}
